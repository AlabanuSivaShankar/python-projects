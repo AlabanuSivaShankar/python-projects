{
  "nbformat": 4,
  "nbformat_minor": 0,
  "metadata": {
    "colab": {
      "provenance": [],
      "authorship_tag": "ABX9TyOQwtdjLQSsw9mLb60M+u9s",
      "include_colab_link": true
    },
    "kernelspec": {
      "name": "python3",
      "display_name": "Python 3"
    },
    "language_info": {
      "name": "python"
    }
  },
  "cells": [
    {
      "cell_type": "markdown",
      "metadata": {
        "id": "view-in-github",
        "colab_type": "text"
      },
      "source": [
        "<a href=\"https://colab.research.google.com/github/AlabanuSivaShankar/python-projects/blob/main/calculator.ipynb\" target=\"_parent\"><img src=\"https://colab.research.google.com/assets/colab-badge.svg\" alt=\"Open In Colab\"/></a>"
      ]
    },
    {
      "cell_type": "code",
      "execution_count": null,
      "metadata": {
        "colab": {
          "base_uri": "https://localhost:8080/"
        },
        "id": "breaKGg8fVD8",
        "outputId": "dcf256a2-3837-48c7-81f7-86ef88f48c4a"
      },
      "outputs": [
        {
          "output_type": "stream",
          "name": "stdout",
          "text": [
            "\n",
            "Simple Calculator\n",
            "1. Addition (+)\n",
            "2. Subtraction (-)\n",
            "3. Multiplication (*)\n",
            "4. Division (/)\n",
            "5. Exit\n",
            "\n",
            "Choose an operation (1-5): 1\n",
            "Enter the first number: 4\n",
            "Enter the second number: 4\n",
            "Result: 8.0\n",
            "\n",
            "Simple Calculator\n",
            "1. Addition (+)\n",
            "2. Subtraction (-)\n",
            "3. Multiplication (*)\n",
            "4. Division (/)\n",
            "5. Exit\n",
            "\n",
            "Choose an operation (1-5): 3\n",
            "Enter the first number: 4\n",
            "Enter the second number: 5\n",
            "Result: 20.0\n",
            "\n",
            "Simple Calculator\n",
            "1. Addition (+)\n",
            "2. Subtraction (-)\n",
            "3. Multiplication (*)\n",
            "4. Division (/)\n",
            "5. Exit\n"
          ]
        }
      ],
      "source": [
        "\n",
        "def display_menu():\n",
        "    print(\"\\nSimple Calculator\")\n",
        "    print(\"1. Addition (+)\")\n",
        "    print(\"2. Subtraction (-)\")\n",
        "    print(\"3. Multiplication (*)\")\n",
        "    print(\"4. Division (/)\")\n",
        "    print(\"5. Exit\")\n",
        "\n",
        "def get_number(prompt):\n",
        "    while True:\n",
        "        try:\n",
        "            return float(input(prompt))\n",
        "        except ValueError:\n",
        "            print(\"Invalid input. Please enter a valid number.\")\n",
        "\n",
        "def perform_calculation(num1, num2, operation):\n",
        "    if operation == \"1\":\n",
        "        return num1 + num2\n",
        "    elif operation == \"2\":\n",
        "        return num1 - num2\n",
        "    elif operation == \"3\":\n",
        "        return num1 * num2\n",
        "    elif operation == \"4\":\n",
        "        if num2 != 0:\n",
        "            return num1 / num2\n",
        "        else:\n",
        "            return \"Error! Division by zero is not allowed.\"\n",
        "    else:\n",
        "        return \"Invalid operation!\"\n",
        "\n",
        "def main():\n",
        "    while True:\n",
        "        display_menu()\n",
        "        choice = input(\"\\nChoose an operation (1-5): \").strip()\n",
        "        if choice == \"5\":\n",
        "            print(\"Exiting the calculator. Goodbye!\")\n",
        "            break\n",
        "        elif choice in {\"1\", \"2\", \"3\", \"4\"}:\n",
        "            num1 = get_number(\"Enter the first number: \")\n",
        "            num2 = get_number(\"Enter the second number: \")\n",
        "            result = perform_calculation(num1, num2, choice)\n",
        "            print(f\"Result: {result}\")\n",
        "        else:\n",
        "            print(\"Invalid choice. Please select a valid option.\")\n",
        "\n",
        "if __name__ == \"__main__\":\n",
        "    main()\n"
      ]
    }
  ]
}