{
  "nbformat": 4,
  "nbformat_minor": 0,
  "metadata": {
    "colab": {
      "provenance": [],
      "authorship_tag": "ABX9TyNdeKloxZ0o9/BNH33cOXS5",
      "include_colab_link": true
    },
    "kernelspec": {
      "name": "python3",
      "display_name": "Python 3"
    },
    "language_info": {
      "name": "python"
    }
  },
  "cells": [
    {
      "cell_type": "markdown",
      "metadata": {
        "id": "view-in-github",
        "colab_type": "text"
      },
      "source": [
        "<a href=\"https://colab.research.google.com/github/AlabanuSivaShankar/python-projects/blob/main/password_generator.ipynb\" target=\"_parent\"><img src=\"https://colab.research.google.com/assets/colab-badge.svg\" alt=\"Open In Colab\"/></a>"
      ]
    },
    {
      "cell_type": "code",
      "execution_count": 1,
      "metadata": {
        "colab": {
          "base_uri": "https://localhost:8080/"
        },
        "id": "fHDYccaVf7_G",
        "outputId": "ac707d44-aefe-4e06-8f3a-2df1cc1d98b0"
      },
      "outputs": [
        {
          "output_type": "stream",
          "name": "stdout",
          "text": [
            "Welcome to the Password Generator!\n",
            "\n",
            "Enter the desired password length (minimum 4): 8\n",
            "Generated Password: 7Gt)kr6#\n",
            "\n",
            "Do you want to generate another password? (yes/no): yes\n",
            "\n",
            "Enter the desired password length (minimum 4): 8\n",
            "Generated Password: &nh|a]3M\n",
            "\n",
            "Do you want to generate another password? (yes/no): no\n",
            "Goodbye!\n"
          ]
        }
      ],
      "source": [
        "import random\n",
        "import string\n",
        "\n",
        "def generate_password(length):\n",
        "    if length < 4:\n",
        "        return \"Password length should be at least 4 to include a mix of characters.\"\n",
        "\n",
        "\n",
        "    lower_case = string.ascii_lowercase\n",
        "    upper_case = string.ascii_uppercase\n",
        "    digits = string.digits\n",
        "    special_chars = string.punctuation\n",
        "\n",
        "\n",
        "    password = [\n",
        "        random.choice(lower_case),\n",
        "        random.choice(upper_case),\n",
        "        random.choice(digits),\n",
        "        random.choice(special_chars),\n",
        "    ]\n",
        "\n",
        "\n",
        "    all_chars = lower_case + upper_case + digits + special_chars\n",
        "    password += random.choices(all_chars, k=length - 4)\n",
        "\n",
        "\n",
        "    random.shuffle(password)\n",
        "    return ''.join(password)\n",
        "\n",
        "def main():\n",
        "    print(\"Welcome to the Password Generator!\")\n",
        "    while True:\n",
        "        try:\n",
        "            length = int(input(\"\\nEnter the desired password length (minimum 4): \"))\n",
        "            password = generate_password(length)\n",
        "            print(f\"Generated Password: {password}\")\n",
        "        except ValueError:\n",
        "            print(\"Invalid input. Please enter a numeric value.\")\n",
        "\n",
        "        choice = input(\"\\nDo you want to generate another password? (yes/no): \").strip().lower()\n",
        "        if choice != \"yes\":\n",
        "            print(\"Goodbye!\")\n",
        "            break\n",
        "\n",
        "if __name__ == \"__main__\":\n",
        "    main()"
      ]
    }
  ]
}